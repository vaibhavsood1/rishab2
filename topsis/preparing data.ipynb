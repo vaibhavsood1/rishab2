{
 "cells": [
  {
   "cell_type": "code",
   "execution_count": 10,
   "metadata": {},
   "outputs": [],
   "source": [
    "import numpy as np\n",
    "from PIL import Image\n",
    "from PIL import ImageStat\n",
    "import cv2\n",
    "import os\n",
    "import math\n",
    "import pandas as pd"
   ]
  },
  {
   "cell_type": "code",
   "execution_count": 11,
   "metadata": {},
   "outputs": [
    {
     "name": "stdout",
     "output_type": "stream",
     "text": [
      "53\n",
      "['150083719.jpg', '150086217.jpg', '150084051.jpg', '150105852.jpg', '150086093.jpg', '150103548.jpg', '150101815.jpg', '150101084.jpg', '150100259.thumb.jpg', '150081589.thumb.jpg', '150085397.thumb.jpg', '150100437.thumb.jpg', '150100905.jpg', '150105059.jpg', '150102427.jpg', '150085649.thumb.jpg', '150100755.thumb.jpg', '150101560.thumb.jpg', '150105100.jpg', '150084056.jpg', '150083780.jpg', '150082359.jpg', '150085363.thumb.jpg', '150082992.jpg', '150102021.jpg', '150081888.jpg', '150103629.jpg', '150103428.jpg', '150086282.jpg', '150080038.jpg', '150083647.jpg', '150083324.jpg', '150081573.thumb.jpg', '150101960.jpg', '150102991.jpg', '150084991.jpg', '150082962.jpg', '150101196.jpg', '150085495.jpg', '150105462.jpg', '150080476.jpg', '150081110.jpg', '150085089.jpg', '150080490.jpg', '150080705.jpg', '150084171.jpg', '150079887.jpg', '150084952.jpg', '150084715.thumb.jpg', '150101015.jpg', '150085542.jpg', '150083295.jpg', '150080973.thumb.jpg']\n"
     ]
    },
    {
     "data": {
      "text/plain": [
       "'01'"
      ]
     },
     "execution_count": 11,
     "metadata": {},
     "output_type": "execute_result"
    }
   ],
   "source": [
    "pic_dir = \"./bmw10_ims/1/\"\n",
    "spec_folder=pic_dir[-3:-1]\n",
    "if spec_folder[0]=='/':\n",
    "    spec_folder='0'+spec_folder[1]\n",
    "pics=os.listdir(pic_dir)\n",
    "print(len(pics))\n",
    "print(pics)\n",
    "spec_folder"
   ]
  },
  {
   "cell_type": "code",
   "execution_count": 12,
   "metadata": {},
   "outputs": [
    {
     "name": "stderr",
     "output_type": "stream",
     "text": [
      "/usr/local/lib/python3.5/dist-packages/ipykernel_launcher.py:31: RuntimeWarning: divide by zero encountered in log2\n",
      "/usr/local/lib/python3.5/dist-packages/ipykernel_launcher.py:31: RuntimeWarning: invalid value encountered in multiply\n"
     ]
    },
    {
     "name": "stdout",
     "output_type": "stream",
     "text": [
      "53\n",
      "53\n",
      "53\n",
      "53\n",
      "53\n",
      "53\n",
      "53\n"
     ]
    }
   ],
   "source": [
    "image_name=[]\n",
    "clarity=[]\n",
    "Brightness=[]\n",
    "Pixel=[]\n",
    "Contrast=[]\n",
    "Resolution=[]\n",
    "Vignette=[]\n",
    "for pic in pics:\n",
    "    \n",
    "    image_name.append(pic)\n",
    "    \n",
    "    x=cv2.imread(pic_dir+pic)\n",
    "    gray = cv2.cvtColor(x, cv2.COLOR_BGR2GRAY)\n",
    "    fm = cv2.Laplacian(gray, cv2.CV_64F).var()\n",
    "    clarity.append(fm)\n",
    "    \n",
    "    b=x[:,:,0]\n",
    "    g=x[:,:,1]\n",
    "    r=x[:,:,2]\n",
    "    r=np.array(r,np.float32)\n",
    "    g=np.array(g,np.float32)\n",
    "    b=np.array(b,np.float32)\n",
    "    gs = (np.sqrt(.241*(r**2)+.691*(g**2)+.068*(b**2)))\n",
    "    avg = np.average(gs)\n",
    "    Brightness.append(avg)\n",
    "    \n",
    "    dp=math.sqrt(x.shape[0]**2+x.shape[1]**2)\n",
    "    Pixel.append(dp/5)\n",
    "    \n",
    "    hist = cv2.calcHist([x], [0], None, [256], [0, 256])\n",
    "    e=sum(hist*np.log2(hist))\n",
    "    Contrast.append(e[0])\n",
    "    \n",
    "    r = min(x.shape[0],x.shape[1])\n",
    "    Resolution.append(r)\n",
    "    \n",
    "    rows, cols = x.shape[:2]\n",
    "    kernel_x = cv2.getGaussianKernel(cols,200)\n",
    "    kernel_y = cv2.getGaussianKernel(rows,200)\n",
    "    kernel = kernel_y*kernel_x.T\n",
    "    mask = 255 * kernel / np.linalg.norm(kernel)\n",
    "    v=np.amax(mask)\n",
    "    Vignette.append(v)\n",
    "    \n",
    "\n",
    "\n",
    "print(len(image_name))\n",
    "print(len(clarity))\n",
    "print(len(Brightness))\n",
    "print(len(Pixel))\n",
    "print(len(Contrast))\n",
    "print(len(Resolution))\n",
    "print(len(Vignette))\n"
   ]
  },
  {
   "cell_type": "code",
   "execution_count": 13,
   "metadata": {},
   "outputs": [],
   "source": [
    "df=pd.DataFrame({'image_name':image_name,'clarity': clarity,\n",
    "           'Brightness': Brightness,'Pixel':Pixel,'Contrast':Contrast,'Resolution':Resolution,'Vignette':Vignette})\n",
    "#df.to_csv(\"data.csv\")"
   ]
  },
  {
   "cell_type": "code",
   "execution_count": 14,
   "metadata": {},
   "outputs": [],
   "source": [
    "df = df.dropna(axis=0)\n",
    "df=df.reset_index(drop=True)\n",
    "filename=\"data\"+spec_folder+\".csv\"\n",
    "df.to_csv(filename)"
   ]
  },
  {
   "cell_type": "code",
   "execution_count": null,
   "metadata": {},
   "outputs": [],
   "source": []
  },
  {
   "cell_type": "code",
   "execution_count": null,
   "metadata": {},
   "outputs": [],
   "source": []
  }
 ],
 "metadata": {
  "kernelspec": {
   "display_name": "Python 3",
   "language": "python",
   "name": "python3"
  },
  "language_info": {
   "codemirror_mode": {
    "name": "ipython",
    "version": 3
   },
   "file_extension": ".py",
   "mimetype": "text/x-python",
   "name": "python",
   "nbconvert_exporter": "python",
   "pygments_lexer": "ipython3",
   "version": "3.5.2"
  }
 },
 "nbformat": 4,
 "nbformat_minor": 2
}
