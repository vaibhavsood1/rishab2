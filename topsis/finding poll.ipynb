{
 "cells": [
  {
   "cell_type": "code",
   "execution_count": 3,
   "metadata": {},
   "outputs": [],
   "source": [
    "import numpy as np"
   ]
  },
  {
   "cell_type": "code",
   "execution_count": 23,
   "metadata": {},
   "outputs": [],
   "source": [
    "n=10\n",
    "m=5\n",
    "num_poll = np.zeros((n,m))\n",
    "#num_poll"
   ]
  },
  {
   "cell_type": "code",
   "execution_count": 32,
   "metadata": {},
   "outputs": [
    {
     "data": {
      "text/plain": [
       "array([[ 5.,  3.,  4.,  9.,  6.],\n",
       "       [10., 10.,  9.,  8.,  1.],\n",
       "       [ 2.,  2., 10., 10.,  4.],\n",
       "       [ 3.,  5.,  1.,  3.,  8.],\n",
       "       [ 8.,  4.,  5.,  7.,  3.],\n",
       "       [ 7.,  8.,  7.,  4.,  7.],\n",
       "       [ 6.,  7.,  6.,  6.,  2.],\n",
       "       [ 1.,  9.,  3.,  5.,  5.],\n",
       "       [ 4.,  1.,  2.,  1., 10.],\n",
       "       [ 9.,  6.,  8.,  2.,  9.]])"
      ]
     },
     "execution_count": 32,
     "metadata": {},
     "output_type": "execute_result"
    }
   ],
   "source": [
    "for i in range(0,m):\n",
    "    num_poll[:,i]=np.random.choice(a=n, size=n, replace=False).T\n",
    "num_poll=num_poll+np.ones((n,m))\n",
    "num_poll"
   ]
  },
  {
   "cell_type": "code",
   "execution_count": 36,
   "metadata": {},
   "outputs": [
    {
     "data": {
      "text/plain": [
       "array([5.4, 7.6, 5.6, 4. , 5.4, 6.6, 5.4, 4.6, 3.6, 6.8])"
      ]
     },
     "execution_count": 36,
     "metadata": {},
     "output_type": "execute_result"
    }
   ],
   "source": [
    "poll_avg=np.mean(num_poll,axis=1)\n",
    "poll_avg"
   ]
  },
  {
   "cell_type": "code",
   "execution_count": null,
   "metadata": {},
   "outputs": [],
   "source": []
  }
 ],
 "metadata": {
  "kernelspec": {
   "display_name": "Python 3",
   "language": "python",
   "name": "python3"
  },
  "language_info": {
   "codemirror_mode": {
    "name": "ipython",
    "version": 3
   },
   "file_extension": ".py",
   "mimetype": "text/x-python",
   "name": "python",
   "nbconvert_exporter": "python",
   "pygments_lexer": "ipython3",
   "version": "3.5.2"
  }
 },
 "nbformat": 4,
 "nbformat_minor": 2
}
