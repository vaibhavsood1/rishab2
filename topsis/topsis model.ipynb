{
 "cells": [
  {
   "cell_type": "code",
   "execution_count": 1,
   "metadata": {},
   "outputs": [],
   "source": [
    "import numpy as np\n",
    "import pandas as pd\n",
    "from skcriteria import Data, MIN, MAX\n",
    "from skcriteria.madm import closeness, simple\n",
    "from operator import itemgetter\n",
    "import pandas as pd"
   ]
  },
  {
   "cell_type": "code",
   "execution_count": 2,
   "metadata": {},
   "outputs": [
    {
     "data": {
      "text/plain": [
       "(43, 8)"
      ]
     },
     "execution_count": 2,
     "metadata": {},
     "output_type": "execute_result"
    }
   ],
   "source": [
    "filename='./data01.csv'\n",
    "d=pd.read_csv(filename)\n",
    "ds=np.array(d)\n",
    "ds1=ds[:,1:-1]\n",
    "ds[:,-1]\n",
    "ds.shape"
   ]
  },
  {
   "cell_type": "code",
   "execution_count": 3,
   "metadata": {},
   "outputs": [
    {
     "data": {
      "text/plain": [
       "[1, 1, 1, 1, -1, 1]"
      ]
     },
     "execution_count": 3,
     "metadata": {},
     "output_type": "execute_result"
    }
   ],
   "source": [
    "criteria=[MAX,MAX,MAX,MAX,MIN,MAX]\n",
    "criteria"
   ]
  },
  {
   "cell_type": "code",
   "execution_count": 4,
   "metadata": {},
   "outputs": [],
   "source": [
    "data = Data(ds1, criteria,\n",
    "            weights=[float(1.0)/6,float(1.0)/6,float(1.0)/6,float(1.0)/6,float(1.0)/6,float(1.0)/6],\n",
    "            anames=ds[:,-1],\n",
    "            cnames=[\"Brightness\", \"Contrast\", \"Pixel\",\"Resolution\",\"Vignette\",\"Clarity\"])"
   ]
  },
  {
   "cell_type": "code",
   "execution_count": 5,
   "metadata": {},
   "outputs": [],
   "source": [
    "t=closeness.TOPSIS()"
   ]
  },
  {
   "cell_type": "code",
   "execution_count": 6,
   "metadata": {},
   "outputs": [
    {
     "data": {
      "text/plain": [
       "array([['150101084.jpg', 1.0, 0.5957989193484775],\n",
       "       ['150084051.jpg', 2.0, 0.5662248939884458],\n",
       "       ['150084952.jpg', 3.0, 0.5524576675459667],\n",
       "       ['150083324.jpg', 4.0, 0.5143906044928318],\n",
       "       ['150082962.jpg', 5.0, 0.5063460895440485],\n",
       "       ['150105852.jpg', 6.0, 0.504106715146644],\n",
       "       ['150082992.jpg', 7.0, 0.4887588330956474],\n",
       "       ['150101015.jpg', 8.0, 0.4847673887710395],\n",
       "       ['150080490.jpg', 9.0, 0.47614511639853013],\n",
       "       ['150102427.jpg', 10.0, 0.469994441591501],\n",
       "       ['150100905.jpg', 11.0, 0.38924651105829244],\n",
       "       ['150100755.thumb.jpg', 12.0, 0.38808720815453923],\n",
       "       ['150079887.jpg', 13.0, 0.3674699306275218],\n",
       "       ['150085397.thumb.jpg', 14.0, 0.3579132760914063],\n",
       "       ['150085542.jpg', 15.0, 0.3416584419034184],\n",
       "       ['150103629.jpg', 16.0, 0.32723727812261605],\n",
       "       ['150083719.jpg', 17.0, 0.3143929260681679],\n",
       "       ['150086093.jpg', 18.0, 0.3125849978079323],\n",
       "       ['150086217.jpg', 19.0, 0.29812878485154937],\n",
       "       ['150102991.jpg', 20.0, 0.295226437726244],\n",
       "       ['150101960.jpg', 21.0, 0.28986230163759724],\n",
       "       ['150101196.jpg', 22.0, 0.28938549016621007],\n",
       "       ['150083295.jpg', 23.0, 0.2867424078793132],\n",
       "       ['150084991.jpg', 24.0, 0.27734399709218194],\n",
       "       ['150103428.jpg', 25.0, 0.2741885014214555],\n",
       "       ['150100437.thumb.jpg', 26.0, 0.2730942428871931],\n",
       "       ['150084715.thumb.jpg', 27.0, 0.27014971206206123],\n",
       "       ['150103548.jpg', 28.0, 0.2658651579685189],\n",
       "       ['150085089.jpg', 29.0, 0.265023275599914],\n",
       "       ['150086282.jpg', 30.0, 0.26420957407935197],\n",
       "       ['150083780.jpg', 31.0, 0.26052579149073185],\n",
       "       ['150084056.jpg', 32.0, 0.2596386380986271],\n",
       "       ['150105059.jpg', 33.0, 0.2570044132573049],\n",
       "       ['150081589.thumb.jpg', 34.0, 0.2538906118745932],\n",
       "       ['150080705.jpg', 35.0, 0.22212313584868315],\n",
       "       ['150084171.jpg', 36.0, 0.21705746085872885],\n",
       "       ['150085495.jpg', 37.0, 0.2135895884463687],\n",
       "       ['150080038.jpg', 38.0, 0.20221995291054334],\n",
       "       ['150080973.thumb.jpg', 39.0, 0.20165409225868675],\n",
       "       ['150102021.jpg', 40.0, 0.19088312971848084],\n",
       "       ['150081888.jpg', 41.0, 0.16413652771035228],\n",
       "       ['150085363.thumb.jpg', 42.0, 0.1457106484362273],\n",
       "       ['150082359.jpg', 43.0, 0.1327162199703353]], dtype=object)"
      ]
     },
     "execution_count": 6,
     "metadata": {},
     "output_type": "execute_result"
    }
   ],
   "source": [
    "dec=t.decide(data)\n",
    "rank=dec.rank_\n",
    "#rank=rank.tolist()\n",
    "y = rank.astype(np.float)\n",
    "topsis_score=dec.e_.closeness\n",
    "#topsis_score=topsis_score.tolist()\n",
    "name=ds[:,-1]\n",
    "#name=name.tolist()\n",
    "\n",
    "result=[name,y,topsis_score]\n",
    "result=np.array(result)\n",
    "result=result.T\n",
    "final=result[result[:,1].argsort()]\n",
    "final"
   ]
  },
  {
   "cell_type": "code",
   "execution_count": 7,
   "metadata": {},
   "outputs": [],
   "source": [
    "df=pd.DataFrame({'image_name':final[:,0],'rank':final[:,1] ,'topsis_score':final[:,2]})"
   ]
  },
  {
   "cell_type": "code",
   "execution_count": 10,
   "metadata": {},
   "outputs": [],
   "source": [
    "df = df.dropna(axis=0)\n",
    "df=df.reset_index(drop=True)\n",
    "res_name=\"result\"+filename[-6:-4]+\".csv\"\n",
    "df.to_csv(res_name)\n",
    "#res_name"
   ]
  },
  {
   "cell_type": "code",
   "execution_count": null,
   "metadata": {},
   "outputs": [],
   "source": []
  }
 ],
 "metadata": {
  "kernelspec": {
   "display_name": "Python 3",
   "language": "python",
   "name": "python3"
  },
  "language_info": {
   "codemirror_mode": {
    "name": "ipython",
    "version": 3
   },
   "file_extension": ".py",
   "mimetype": "text/x-python",
   "name": "python",
   "nbconvert_exporter": "python",
   "pygments_lexer": "ipython3",
   "version": "3.5.2"
  }
 },
 "nbformat": 4,
 "nbformat_minor": 2
}
